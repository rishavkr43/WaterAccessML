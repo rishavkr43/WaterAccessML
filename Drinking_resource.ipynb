{
 "cells": [
  {
   "cell_type": "markdown",
   "metadata": {},
   "source": [
    "\n",
    "# Experiment Notebook - AutoAI Notebook v2.1.7\n",
    "\n",
    "\n",
    "This notebook contains the steps and code to demonstrate support of AutoAI experiments in the watsonx.ai Runtime. It introduces Python API commands for data retrieval, training experiments, persisting pipelines, testing pipelines, refining pipelines, and scoring the resulting model.\n",
    "\n",
    "**Note:** Notebook code generated using AutoAI will execute successfully. If code is modified or reordered, there is no guarantee it will successfully execute. For details, see: <a href=\"https://dataplatform.cloud.ibm.com/docs/content/wsj/analyze-data/autoai-notebook.html\">Saving an Auto AI experiment as a notebook</a>\n"
   ]
  },
  {
   "cell_type": "markdown",
   "metadata": {},
   "source": [
    "Some familiarity with Python is helpful. This notebook uses Python 3.11 and the `ibm-watsonx-ai` package.\n",
    "\n",
    "\n",
    "## Notebook goals\n",
    "\n",
    "The learning goals of this notebook are:\n",
    "-  Defining an AutoAI experiment\n",
    "-  Training AutoAI models \n",
    "-  Comparing trained models\n",
    "-  Deploying the model as a web service\n",
    "-  Scoring the model to generate predictions\n",
    "\n",
    "\n",
    "\n",
    "## Contents\n",
    "\n",
    "This notebook contains the following parts:\n",
    "\n",
    "**[Setup](#Setup)**<br>\n",
    "&nbsp;&nbsp;[Package installation](#Package-installation)<br>\n",
    "&nbsp;&nbsp;[watsonx.ai connection](#watsonx.ai-connection)<br>\n",
    "**[Experiment configuration](#Experiment-configuration)**<br>\n",
    "&nbsp;&nbsp;[Experiment metadata](#Experiment-metadata)<br>\n",
    "**[Working with completed AutoAI experiment](#Working-with-completed-AutoAI-experiment)**<br>\n",
    "&nbsp;&nbsp;[Get fitted AutoAI optimizer](#Get-fitted-AutoAI-optimizer)<br>\n",
    "&nbsp;&nbsp;[Pipelines comparison](#Pipelines-comparison)<br>\n",
    "&nbsp;&nbsp;[Get pipeline as a scikit-learn pipeline model](#Get-pipeline-as-a-scikit-learn-pipeline-model)<br>\n",
    "&nbsp;&nbsp;[Inspect pipeline](#Inspect-pipeline)<br>\n",
    "&nbsp;&nbsp;&nbsp;&nbsp;[Visualize pipeline model](#Visualize-pipeline-model)<br>\n",
    "&nbsp;&nbsp;&nbsp;&nbsp;[Preview pipeline model as a Python code](#Preview-pipeline-model-as-a-Python-code)<br>\n",
    "**[Deploy and Score](#Deploy-and-Score)**<br>\n",
    "&nbsp;&nbsp;[Working with spaces](#Working-with-spaces)<br>\n",
    "**[Running AutoAI experiment with Python API](#Running-the-AutoAI-experiment-with-Python-API)**<br>\n",
    "**[Next steps](#Next-steps)**<br>\n",
    "**[Copyrights](#Copyrights)**"
   ]
  },
  {
   "cell_type": "markdown",
   "metadata": {},
   "source": [
    "<a id=\"setup\"></a>\n",
    "# Setup"
   ]
  },
  {
   "cell_type": "markdown",
   "metadata": {},
   "source": [
    "<a id=\"install\"></a>\n",
    "## Package installation\n",
    "Before you use the sample code in this notebook, install the following packages:\n",
    " - ibm-watsonx-ai,\n",
    " - autoai-libs,\n",
    " - lale,\n",
    " - scikit-learn,\n",
    " - xgboost,\n",
    " - lightgbm,\n",
    " - snapml\n"
   ]
  },
  {
   "cell_type": "code",
   "execution_count": null,
   "metadata": {
    "pycharm": {
     "name": "#%%\n"
    }
   },
   "outputs": [
    {
     "ename": "",
     "evalue": "",
     "output_type": "error",
     "traceback": [
      "\u001b[1;31mRunning cells with 'Python 3.13.3' requires the ipykernel package.\n",
      "\u001b[1;31m<a href='command:jupyter.createPythonEnvAndSelectController'>Create a Python Environment</a> with the required packages."
     ]
    }
   ],
   "source": [
    "!pip install ibm-watsonx-ai | tail -n 1\n",
    "!pip install autoai-libs~=2.0 | tail -n 1\n",
    "!pip install -U 'lale~=0.8.3' | tail -n 1\n",
    "!pip install scikit-learn==1.3.* | tail -n 1\n",
    "!pip install xgboost==2.0.* | tail -n 1\n",
    "!pip install lightgbm==4.2.* | tail -n 1\n",
    "!pip install snapml==1.14.* | tail -n 1"
   ]
  },
  {
   "cell_type": "markdown",
   "metadata": {},
   "source": [
    "<a id=\"configuration\"></a>\n",
    "# Experiment configuration"
   ]
  },
  {
   "cell_type": "markdown",
   "metadata": {
    "pycharm": {
     "name": "#%% md\n"
    }
   },
   "source": [
    "<a id=\"metadata\"></a>\n",
    "## Experiment metadata\n",
    "This cell defines the metadata for the experiment, including: training_data_references, training_result_reference, experiment_metadata."
   ]
  },
  {
   "cell_type": "code",
   "execution_count": null,
   "metadata": {
    "pycharm": {
     "name": "#%%\n"
    }
   },
   "outputs": [],
   "source": [
    "from ibm_watsonx_ai.helpers import DataConnection\n",
    "from ibm_watsonx_ai.helpers import ContainerLocation\n",
    "\n",
    "training_data_references = [\n",
    "    DataConnection(\n",
    "        data_asset_id='3da1e6b6-f738-4f8f-87aa-5330b014b240'\n",
    "    ),\n",
    "]\n",
    "training_result_reference = DataConnection(\n",
    "    location=ContainerLocation(\n",
    "        path='auto_ml/a5e5c293-3fe1-4547-a881-ff39fb1cae7c/wml_data/f863818a-3c58-4ed4-b436-c5c8776f2209/data/automl',\n",
    "        model_location='auto_ml/a5e5c293-3fe1-4547-a881-ff39fb1cae7c/wml_data/f863818a-3c58-4ed4-b436-c5c8776f2209/data/automl/model.zip',\n",
    "        training_status='auto_ml/a5e5c293-3fe1-4547-a881-ff39fb1cae7c/wml_data/f863818a-3c58-4ed4-b436-c5c8776f2209/training-status.json'\n",
    "    )\n",
    ")"
   ]
  },
  {
   "cell_type": "code",
   "execution_count": null,
   "metadata": {
    "pycharm": {
     "name": "#%%\n"
    }
   },
   "outputs": [],
   "source": [
    "experiment_metadata = dict(\n",
    "    prediction_type='multiclass',\n",
    "    prediction_column='State',\n",
    "    holdout_size=0.1,\n",
    "    scoring='accuracy',\n",
    "    csv_separator=',',\n",
    "    random_state=33,\n",
    "    max_number_of_estimators=2,\n",
    "    training_data_references=training_data_references,\n",
    "    training_result_reference=training_result_reference,\n",
    "    deployment_url='https://au-syd.ml.cloud.ibm.com',\n",
    "    project_id='cbd35e95-3ea6-4b4b-aec9-0c139e4df4c0',\n",
    "    drop_duplicates=True,\n",
    "    include_batched_ensemble_estimators=['BatchedTreeEnsembleClassifier(ExtraTreesClassifier)', 'BatchedTreeEnsembleClassifier(LGBMClassifier)', 'BatchedTreeEnsembleClassifier(RandomForestClassifier)', 'BatchedTreeEnsembleClassifier(SnapBoostingMachineClassifier)', 'BatchedTreeEnsembleClassifier(SnapRandomForestClassifier)', 'BatchedTreeEnsembleClassifier(XGBClassifier)'],\n",
    "    feature_selector_mode='auto'\n",
    ")"
   ]
  },
  {
   "cell_type": "markdown",
   "metadata": {},
   "source": [
    "<a id=\"connection\"></a>\n",
    "## watsonx.ai connection\n",
    "\n",
    "This cell defines the credentials required to work with the watsonx.ai Runtime.\n",
    "\n",
    "**Action**: Provide the IBM Cloud apikey, For details, see [documentation](https://cloud.ibm.com/docs/account?topic=account-userapikey)."
   ]
  },
  {
   "cell_type": "code",
   "execution_count": null,
   "metadata": {
    "pycharm": {
     "name": "#%%\n"
    }
   },
   "outputs": [],
   "source": [
    "import getpass\n",
    "\n",
    "api_key = getpass.getpass(\"Please enter your api key (press enter): \")"
   ]
  },
  {
   "cell_type": "code",
   "execution_count": null,
   "metadata": {
    "pycharm": {
     "name": "#%%\n"
    }
   },
   "outputs": [],
   "source": [
    "from ibm_watsonx_ai import Credentials\n",
    "\n",
    "credentials = Credentials(\n",
    "    api_key=api_key,\n",
    "    url=experiment_metadata['deployment_url']\n",
    ")"
   ]
  },
  {
   "cell_type": "markdown",
   "metadata": {},
   "source": [
    "<a id=\"work\"></a>\n",
    "\n",
    "\n",
    "# Working with completed AutoAI experiment\n",
    "\n",
    "This cell imports the pipelines generated for the experiment. The best pipeline will be saved as a model."
   ]
  },
  {
   "cell_type": "markdown",
   "metadata": {},
   "source": [
    "<a id=\"get\"></a>\n",
    "\n",
    "\n",
    "## Get fitted AutoAI optimizer"
   ]
  },
  {
   "cell_type": "code",
   "execution_count": null,
   "metadata": {
    "pycharm": {
     "name": "#%%\n"
    }
   },
   "outputs": [],
   "source": [
    "from ibm_watsonx_ai.experiment import AutoAI\n",
    "\n",
    "pipeline_optimizer = AutoAI(credentials, project_id=experiment_metadata['project_id']).runs.get_optimizer(metadata=experiment_metadata)"
   ]
  },
  {
   "cell_type": "markdown",
   "metadata": {},
   "source": [
    "Use `get_params()` to retrieve configuration parameters."
   ]
  },
  {
   "cell_type": "code",
   "execution_count": null,
   "metadata": {
    "pycharm": {
     "name": "#%%\n"
    }
   },
   "outputs": [],
   "source": [
    "pipeline_optimizer.get_params()"
   ]
  },
  {
   "cell_type": "markdown",
   "metadata": {
    "pycharm": {
     "name": "#%% md\n"
    }
   },
   "source": [
    "<a id=\"comparison\"></a>\n",
    "## Pipelines comparison\n",
    "\n",
    "Use the `summary()` method to list trained pipelines and evaluation metrics information in\n",
    "the form of a Pandas DataFrame. You can use the DataFrame to compare all discovered pipelines and select the one you like for further testing."
   ]
  },
  {
   "cell_type": "code",
   "execution_count": null,
   "metadata": {
    "pycharm": {
     "name": "#%%\n"
    }
   },
   "outputs": [],
   "source": [
    "summary = pipeline_optimizer.summary()\n",
    "best_pipeline_name = list(summary.index)[0]\n",
    "summary"
   ]
  },
  {
   "cell_type": "markdown",
   "metadata": {},
   "source": [
    "<a id=\"get_pipeline\"></a>\n",
    "### Get pipeline as a scikit-learn pipeline model\n",
    "\n",
    "After you compare the pipelines, download and save a scikit-learn pipeline model object from the\n",
    "AutoAI training job.\n",
    "\n",
    "**Tip:** To get a specific pipeline, pass the pipeline name in:\n",
    "```\n",
    "pipeline_optimizer.get_pipeline(pipeline_name=pipeline_name)\n",
    "```"
   ]
  },
  {
   "cell_type": "code",
   "execution_count": null,
   "metadata": {
    "pycharm": {
     "name": "#%%\n"
    }
   },
   "outputs": [],
   "source": [
    "pipeline_model = pipeline_optimizer.get_pipeline()"
   ]
  },
  {
   "cell_type": "markdown",
   "metadata": {},
   "source": [
    "Next, check the importance of features for selected pipeline."
   ]
  },
  {
   "cell_type": "code",
   "execution_count": null,
   "metadata": {
    "pycharm": {
     "name": "#%%\n"
    }
   },
   "outputs": [],
   "source": [
    "pipeline_optimizer.get_pipeline_details()['features_importance']"
   ]
  },
  {
   "cell_type": "markdown",
   "metadata": {},
   "source": [
    "**Tip:** If you want to check all the details of the model evaluation metrics, use:\n",
    "```\n",
    "pipeline_optimizer.get_pipeline_details()\n",
    "```"
   ]
  },
  {
   "cell_type": "markdown",
   "metadata": {},
   "source": [
    "<a id=\"score_pipeline\"></a>\n",
    "### Score the fitted pipeline with the generated scorer using the holdout dataset.\n",
    "1. Get sklearn pipeline_model"
   ]
  },
  {
   "cell_type": "code",
   "execution_count": null,
   "metadata": {},
   "outputs": [],
   "source": [
    "sklearn_pipeline_model = pipeline_optimizer.get_pipeline(astype=AutoAI.PipelineTypes.SKLEARN)"
   ]
  },
  {
   "cell_type": "markdown",
   "metadata": {},
   "source": [
    "2. Get training and testing data"
   ]
  },
  {
   "cell_type": "code",
   "execution_count": null,
   "metadata": {},
   "outputs": [],
   "source": [
    "from ibm_watsonx_ai import APIClient\n",
    "\n",
    "client = APIClient(credentials=credentials)\n",
    "\n",
    "if 'space_id' in experiment_metadata:\n",
    "    client.set.default_space(experiment_metadata['space_id'])\n",
    "else:\n",
    "    client.set.default_project(experiment_metadata['project_id'])\n",
    "\n",
    "training_data_references[0].set_client(client)"
   ]
  },
  {
   "cell_type": "code",
   "execution_count": null,
   "metadata": {},
   "outputs": [],
   "source": [
    "_, X_test, _, y_test = training_data_references[0].read(experiment_metadata=experiment_metadata, with_holdout_split=True, use_flight=True)"
   ]
  },
  {
   "cell_type": "markdown",
   "metadata": {},
   "source": [
    "3. Define scorer, score the fitted pipeline with the generated scorer using the holdout dataset."
   ]
  },
  {
   "cell_type": "code",
   "execution_count": null,
   "metadata": {},
   "outputs": [],
   "source": [
    "from sklearn.metrics import get_scorer\n",
    "\n",
    "scorer = get_scorer(experiment_metadata['scoring'])"
   ]
  },
  {
   "cell_type": "code",
   "execution_count": null,
   "metadata": {},
   "outputs": [],
   "source": [
    "score = scorer(sklearn_pipeline_model, X_test.values, y_test.values)\n",
    "print(score)"
   ]
  },
  {
   "cell_type": "markdown",
   "metadata": {},
   "source": [
    "<a id=\"inspect_pipeline\"></a>\n",
    "## Inspect pipeline"
   ]
  },
  {
   "cell_type": "markdown",
   "metadata": {},
   "source": [
    "<a id=\"visualize\"></a>\n",
    "### Visualize pipeline model\n",
    "\n",
    "Preview pipeline model stages as a graph. Each node's name links to a detailed description of the stage.\n"
   ]
  },
  {
   "cell_type": "code",
   "execution_count": null,
   "metadata": {},
   "outputs": [],
   "source": [
    "pipeline_model.visualize()"
   ]
  },
  {
   "cell_type": "markdown",
   "metadata": {},
   "source": [
    "<a id=\"preview\"></a>\n",
    "### Preview pipeline model as a Python code\n",
    "In the next cell, you can preview the saved pipeline model as a Python code.  \n",
    "You can review the exact steps used to create the model.\n",
    "\n",
    "**Note:** If you want to get sklearn representation, add the following parameter to the `pretty_print` call: `astype='sklearn'`."
   ]
  },
  {
   "cell_type": "code",
   "execution_count": null,
   "metadata": {
    "pycharm": {
     "name": "#%%\n"
    }
   },
   "outputs": [],
   "source": [
    "pipeline_model.pretty_print(combinators=False, ipython_display=True)"
   ]
  },
  {
   "cell_type": "markdown",
   "metadata": {},
   "source": [
    "### Calling the `predict` method\n",
    "If you want to get a prediction by using the pipeline model object, call `pipeline_model.predict()`.\n",
    "\n",
    "**Note:** If you want to work with a pure sklearn model:\n",
    " - add the following parameter to the `get_pipeline` call: `astype='sklearn'`,\n",
    " - or `scikit_learn_pipeline = pipeline_model.export_to_sklearn_pipeline()`"
   ]
  },
  {
   "cell_type": "markdown",
   "metadata": {
    "tags": []
   },
   "source": [
    "<a id=\"scoring\"></a>\n",
    "## Deploy and Score\n",
    "\n",
    "In this section you will learn how to deploy and score the model as a web service."
   ]
  },
  {
   "cell_type": "markdown",
   "metadata": {},
   "source": [
    "You can use the commands below to promote the model to space and create online deployment (web service).\n",
    "\n",
    "<a id=\"working_spaces\"></a>\n",
    "### Working with spaces\n",
    "\n",
    "In this section you will specify a deployment space for organizing the assets for deploying and scoring the model. If you do not have an existing space, you can use <a href=\"https://au-syd.dai.cloud.ibm.com/ml-runtime/dashboard?context=wx\">Deployment Spaces Dashboard</a> to create a new space, following these steps:\n",
    "\n",
    "- Click **New Deployment Space**.\n",
    "- Create an empty space.\n",
    "- Select Cloud Object Storage.\n",
    "- Select watsonx.ai Runtime and press **Create**.\n",
    "- Copy `space_id` and paste it below.\n",
    "\n",
    "**Tip**: You can also use the API to prepare the space for your work. Learn more [here](https://github.com/IBM/watson-machine-learning-samples/blob/master/cloud/notebooks/python_sdk/instance-management/Space%20management.ipynb).\n",
    "\n",
    "**Info**: Below cells are `raw` type - in order to run them, change their type to `code` and run them (no need to restart the notebook). You may need to add some additional info (see the **action** below).\n",
    "\n",
    "**Action**: Assign or update space ID below.\n"
   ]
  },
  {
   "cell_type": "markdown",
   "metadata": {},
   "source": [
    "### Deployment creation"
   ]
  },
  {
   "cell_type": "code",
   "execution_count": null,
   "metadata": {},
   "outputs": [],
   "source": [
    "target_space_id = input(\"Enter your space ID here (press enter): \")"
   ]
  },
  {
   "cell_type": "code",
   "execution_count": null,
   "metadata": {
    "pycharm": {
     "name": "#%%\n"
    }
   },
   "outputs": [],
   "source": [
    "from ibm_watsonx_ai.deployment import WebService\n",
    "\n",
    "service = WebService(\n",
    "    source_instance_credentials=credentials,\n",
    "    target_instance_credentials=credentials,\n",
    "    source_project_id=experiment_metadata['project_id'],\n",
    "    target_space_id=target_space_id\n",
    ")\n",
    "service.create(\n",
    "    model=best_pipeline_name,\n",
    "    metadata=experiment_metadata,\n",
    "    deployment_name='Best_pipeline_webservice'\n",
    ")"
   ]
  },
  {
   "cell_type": "markdown",
   "metadata": {},
   "source": [
    "Use the `print` method for the deployment object to show basic information about the service: "
   ]
  },
  {
   "cell_type": "code",
   "execution_count": null,
   "metadata": {
    "pycharm": {
     "name": "#%%\n"
    }
   },
   "outputs": [],
   "source": [
    "print(service)"
   ]
  },
  {
   "cell_type": "markdown",
   "metadata": {},
   "source": [
    "To show all available information about the deployment, use the `.get_params()` method."
   ]
  },
  {
   "cell_type": "code",
   "execution_count": null,
   "metadata": {
    "pycharm": {
     "name": "#%%\n"
    }
   },
   "outputs": [],
   "source": [
    "service.get_params()"
   ]
  },
  {
   "cell_type": "markdown",
   "metadata": {},
   "source": [
    "### Scoring of webservice\n",
    "You can make a scoring request by calling `score()` on the deployed pipeline."
   ]
  },
  {
   "cell_type": "markdown",
   "metadata": {},
   "source": [
    "If you want to work with the web service in an external Python application, follow these steps to retrieve the service object:\n",
    "\n",
    " - Initialize the service by `service = WebService(target_instance_credentials=credentials,target_space_id=experiment_metadata['space_id'])`\n",
    " - Get deployment_id: `service.list()`\n",
    " - Get webservice object: `service.get('deployment_id')`\n",
    "\n",
    "After that you can call `service.score(score_records_df)` method. The `score()` method accepts `pandas.DataFrame` objects. "
   ]
  },
  {
   "cell_type": "markdown",
   "metadata": {},
   "source": [
    "<a id=\"cleanup\"></a>\n",
    "### Deleting deployment\n",
    "You can delete the existing deployment by calling the `service.delete()` command.\n",
    "To list the existing web services, use the `service.list()` method."
   ]
  },
  {
   "cell_type": "markdown",
   "metadata": {},
   "source": [
    "<a id=\"run\"></a>\n",
    "\n",
    "## Running the AutoAI experiment with Python API\n",
    "\n",
    "**Info**: Below cells are `raw` type - in order to run them, change their type to `code` and run them (no need to restart the notebook). You may need to add some additional info. "
   ]
  },
  {
   "cell_type": "markdown",
   "metadata": {},
   "source": [
    "If you want to run the AutoAI experiment using the Python API, follow these steps. The experiment settings were generated basing on parameters set in the AutoAI UI.\n"
   ]
  },
  {
   "cell_type": "markdown",
   "metadata": {
    "pycharm": {
     "name": "#%%\n"
    }
   },
   "source": [
    "```\n",
    "from ibm_watsonx_ai.experiment import AutoAI\n",
    "\n",
    "experiment = AutoAI(credentials, project_id=experiment_metadata['project_id'])\n",
    "```"
   ]
  },
  {
   "cell_type": "markdown",
   "metadata": {},
   "source": [
    "```\n",
    "OPTIMIZER_NAME = 'custom_name'\n",
    "```"
   ]
  },
  {
   "cell_type": "markdown",
   "metadata": {
    "pycharm": {
     "name": "#%% raw\n"
    }
   },
   "source": [
    "```\n",
    "from ibm_watsonx_ai.helpers import DataConnection\n",
    "from ibm_watsonx_ai.helpers import ContainerLocation\n",
    "\n",
    "training_data_references = [\n",
    "    DataConnection(\n",
    "        data_asset_id='3da1e6b6-f738-4f8f-87aa-5330b014b240'\n",
    "    ),\n",
    "]\n",
    "training_result_reference = DataConnection(\n",
    "    location=ContainerLocation(\n",
    "        path='auto_ml/a5e5c293-3fe1-4547-a881-ff39fb1cae7c/wml_data/f863818a-3c58-4ed4-b436-c5c8776f2209/data/automl',\n",
    "        model_location='auto_ml/a5e5c293-3fe1-4547-a881-ff39fb1cae7c/wml_data/f863818a-3c58-4ed4-b436-c5c8776f2209/data/automl/model.zip',\n",
    "        training_status='auto_ml/a5e5c293-3fe1-4547-a881-ff39fb1cae7c/wml_data/f863818a-3c58-4ed4-b436-c5c8776f2209/training-status.json'\n",
    "    )\n",
    ")\n",
    "```"
   ]
  },
  {
   "cell_type": "markdown",
   "metadata": {},
   "source": [
    "The new pipeline optimizer will be created and training will be triggered."
   ]
  },
  {
   "cell_type": "markdown",
   "metadata": {
    "pycharm": {
     "name": "#%%raw\n"
    }
   },
   "source": [
    "```\n",
    "pipeline_optimizer = experiment.optimizer(\n",
    "    name=OPTIMIZER_NAME,\n",
    "    prediction_type=experiment_metadata['prediction_type'],\n",
    "    prediction_column=experiment_metadata['prediction_column'],\n",
    "    scoring=experiment_metadata['scoring'],\n",
    "    holdout_size=experiment_metadata['holdout_size'],\n",
    "    csv_separator=experiment_metadata['csv_separator'],\n",
    "    drop_duplicates=experiment_metadata['drop_duplicates'],\n",
    "    include_batched_ensemble_estimators=experiment_metadata['include_batched_ensemble_estimators'],\n",
    "    incremental_learning=False,\n",
    "    feature_selector_mode=experiment_metadata['feature_selector_mode'],\n",
    ")\n",
    "```"
   ]
  },
  {
   "cell_type": "markdown",
   "metadata": {},
   "source": [
    "```\n",
    "pipeline_optimizer.fit(\n",
    "    training_data_references=training_data_references,\n",
    "    training_results_reference=training_result_reference,\n",
    ")\n",
    "```"
   ]
  },
  {
   "cell_type": "markdown",
   "metadata": {},
   "source": [
    "\n",
    "<a id=\"next_steps\"></a>\n",
    "# Next steps\n",
    "You successfully completed this notebook!\n",
    "You learned how to use ibm-watsonx-ai to run and explore AutoAI experiments.\n",
    "Check out the official [AutoAI site](https://www.ibm.com/cloud/watson-studio/autoai) for more samples, tutorials, documentation, how-tos, and blog posts."
   ]
  },
  {
   "cell_type": "markdown",
   "metadata": {},
   "source": [
    "<a id=\"copyrights\"></a>\n",
    "### Copyrights\n",
    "\n",
    "Licensed Materials - Copyright © 2025 IBM. This notebook and its source code are released under the terms of the ILAN License.\n",
    "Use, duplication disclosure restricted by GSA ADP Schedule Contract with IBM Corp.\n",
    "\n",
    "**Note:** The auto-generated notebooks are subject to the International License Agreement for Non-Warranted Programs (or equivalent) and License Information document for Watson Studio Auto-generated Notebook (License Terms), such agreements located in the link below. Specifically, the Source Components and Sample Materials clause included in the License Information document for Watson Studio Auto-generated Notebook applies to the auto-generated notebooks.  \n",
    "\n",
    "By downloading, copying, accessing, or otherwise using the materials, you agree to the <a href=\"https://www14.software.ibm.com/cgi-bin/weblap/lap.pl?li_formnum=L-AMCU-BYC7LF\">License Terms</a>  \n",
    "\n",
    "___"
   ]
  }
 ],
 "metadata": {
  "kernelspec": {
   "display_name": "Python 3",
   "language": "python",
   "name": "python3"
  },
  "language_info": {
   "codemirror_mode": {
    "name": "ipython",
    "version": 3
   },
   "file_extension": ".py",
   "mimetype": "text/x-python",
   "name": "python",
   "nbconvert_exporter": "python",
   "pygments_lexer": "ipython3",
   "version": "3.13.3"
  },
  "pycharm": {
   "stem_cell": {
    "cell_type": "raw",
    "metadata": {
     "collapsed": false
    },
    "source": [
     "\n"
    ]
   }
  }
 },
 "nbformat": 4,
 "nbformat_minor": 4
}
